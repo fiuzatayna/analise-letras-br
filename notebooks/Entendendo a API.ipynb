{
 "cells": [
  {
   "cell_type": "code",
   "execution_count": 1,
   "id": "aea90999-b4d4-431a-9f82-762cda876f1b",
   "metadata": {},
   "outputs": [],
   "source": [
    "import requests\n",
    "import json"
   ]
  },
  {
   "cell_type": "code",
   "execution_count": 3,
   "id": "c38f070f-f618-4d4c-bb48-006a67258977",
   "metadata": {},
   "outputs": [],
   "source": [
    "def jprint(obj):\n",
    "    # create a formatted string of the Python JSON object\n",
    "    text = json.dumps(obj, sort_keys=True, indent=4)\n",
    "    print(text)"
   ]
  },
  {
   "cell_type": "markdown",
   "id": "2c482efd-3916-4afc-a503-2ccc5b6c3af6",
   "metadata": {},
   "source": [
    "## Busca a letra da música Holiday, da Madonna"
   ]
  },
  {
   "cell_type": "code",
   "execution_count": null,
   "id": "9b9a8fab-1b73-46c5-87ea-f91bf0edb958",
   "metadata": {},
   "outputs": [
    {
     "name": "stdout",
     "output_type": "stream",
     "text": [
      "200\n",
      "{\n",
      "    \"art\": {\n",
      "        \"id\": \"3ade68b3g1f86eda3\",\n",
      "        \"name\": \"Madonna\",\n",
      "        \"url\": \"https://www.vagalume.com.br/madonna/\"\n",
      "    },\n",
      "    \"badwords\": false,\n",
      "    \"mus\": [\n",
      "        {\n",
      "            \"alb\": {\n",
      "                \"id\": \"3ade68b6g739dfda3\",\n",
      "                \"img\": \"https://www.vagalume.com.br/madonna/discografia/madonna-live-the-virgin-tour-W125.jpg\",\n",
      "                \"name\": \"Madonna Live: The Virgin Tour\",\n",
      "                \"url\": \"https://www.vagalume.com.br/madonna/discografia/madonna-live-the-virgin-tour.html\",\n",
      "                \"year\": \"1985\"\n",
      "            },\n",
      "            \"id\": \"3ade68b6g8e27fda3\",\n",
      "            \"lang\": 2,\n",
      "            \"name\": \"Holiday\",\n",
      "            \"text\": \"Holiday Celebrate \\nHoliday Celebrate \\nIf we took a holiday \\nTook some time to celebrate \\nJust one day out of life \\nIt would be, it would be so nice (chorus)\\n\\nEverybody spread the word \\nWe\\u00b4re gonna have a celebration \\nAll across the world \\nIn every nation \\nIt\\u00b4s time for the good times \\nForget about the bad times, oh yeah \\nOne day to come together \\nTo release the pressure \\nWe need a holiday \\n\\n(chorus)\\n\\nYou can turn this world around \\nAnd bring back all of those happy days \\nPut your troubles down \\nIt\\u00b4s time to celebrate \\nLet love shine \\nAnd we will find \\nA way to come together \\nAnd make things better \\nWe need a holiday \\n\\n(chorus)\\n\\nHoliday Celebrate \\nHoliday Celebrate \\nHoliday Celebrate \\nHoliday Celebrate \\nHoliday, Celebration \\nCome together in every nation\",\n",
      "            \"translate\": [\n",
      "                {\n",
      "                    \"id\": \"3ade68b6g417afda3\",\n",
      "                    \"lang\": 1,\n",
      "                    \"text\": \"[Feriado]\\nFeriado, comemore \\nFeriado, comemore \\nSe n\\u00f3s tir\\u00e1ssemos uma folga \\nTir\\u00e1ssemos um dia para comemorar \\nS\\u00f3 um dia da vida\\nSeria t\\u00e3o, seria t\\u00e3o legal (refr\\u00e3o)\\n\\nTodo mundo espalhando a not\\u00edcia \\nN\\u00f3s vamos fazer uma comemora\\u00e7\\u00e3o \\nPelo mundo inteiro \\nEm todas as na\\u00e7\\u00f5es \\n\\u00c9 hora dos bons momentos \\nEsque\\u00e7a os maus momentos oh yeah \\nUm dia para nos unirmos \\nPara aliviar a press\\u00e3o \\nN\\u00f3s precisamos de uma folga \\n\\n(refr\\u00e3o)\\n\\nVoc\\u00ea pode mudar este mundo \\nE trazer de voltas aqueles dias felizes\\nAcabe com seus problemas \\n\\u00c9 hora de comemorar\\nDeixe o amor brilhar \\nE encontraremos \\nUm jeito de nos unirmos \\nE fazer as coisas melhor \\nPrecisamos de uma folga \\n\\n(refr\\u00e3o)\\n\\nFeriado, comemore \\nFeriado, comemore \\nFeriado, comemore \\nFeriado, comemore \\nFeriado, celebra\\u00e7\\u00e3o\\nUnam-se em todas as na\\u00e7\\u00f5es\",\n",
      "                    \"url\": \"https://www.vagalume.com.br/madonna/holiday-traducao.html\"\n",
      "                }\n",
      "            ],\n",
      "            \"url\": \"https://www.vagalume.com.br/madonna/holiday.html\"\n",
      "        }\n",
      "    ],\n",
      "    \"type\": \"exact\"\n",
      "}\n"
     ]
    }
   ],
   "source": [
    "response = requests.get(\"https://api.vagalume.com.br/search.php?art=madonna&mus=holiday&extra=alb&apikey={704be0c163c4a9bd25ee481ceeceb42b}\")\n",
    "print(response.status_code)\n",
    "jprint(response.json())"
   ]
  },
  {
   "cell_type": "markdown",
   "id": "bbe42b11-eb41-4d5f-b870-74c628a79436",
   "metadata": {},
   "source": [
    "## Busca resultados para 'Chico Cesar'"
   ]
  },
  {
   "cell_type": "code",
   "execution_count": null,
   "id": "eabdd4f2-78e9-4b1e-9bf8-910ff1e7c656",
   "metadata": {},
   "outputs": [
    {
     "name": "stdout",
     "output_type": "stream",
     "text": [
      "200\n",
      "{\n",
      "    \"highlighting\": {\n",
      "        \"b3ade68b4g66c6eda3\": {},\n",
      "        \"b3ade68b5g8fd7eda3\": {},\n",
      "        \"b3ade68b7gbcfc2ea3\": {},\n",
      "        \"b3ade68b7gc26e3ea3\": {},\n",
      "        \"b3ade68b7gc7303ea3\": {}\n",
      "    },\n",
      "    \"response\": {\n",
      "        \"docs\": [\n",
      "            {\n",
      "                \"band\": \"Chico Cesar\",\n",
      "                \"fmRadios\": [\n",
      "                    \"147015501223418|forro\"\n",
      "                ],\n",
      "                \"id\": \"b3ade68b5g8fd7eda3\",\n",
      "                \"url\": \"/chico-cesar/\"\n",
      "            },\n",
      "            {\n",
      "                \"band\": \"Chico Buarque\",\n",
      "                \"fmRadios\": [\n",
      "                    \"1470154964926375|bossa-nova\",\n",
      "                    \"1470154983100588|mpb\"\n",
      "                ],\n",
      "                \"id\": \"b3ade68b4g66c6eda3\",\n",
      "                \"url\": \"/chico-buarque/\"\n",
      "            },\n",
      "            {\n",
      "                \"band\": \"Chico Chico\",\n",
      "                \"id\": \"b3ade68b7gbcfc2ea3\",\n",
      "                \"url\": \"/chico-chico/\"\n",
      "            },\n",
      "            {\n",
      "                \"band\": \"Fran e Chico Chico\",\n",
      "                \"id\": \"b3ade68b7gc26e3ea3\",\n",
      "                \"url\": \"/fran-e-chico-chico/\"\n",
      "            },\n",
      "            {\n",
      "                \"band\": \"C\\u00e9sar & C\\u00e9sar\",\n",
      "                \"id\": \"b3ade68b7gc7303ea3\",\n",
      "                \"url\": \"/cesar-cesar-11/\"\n",
      "            }\n",
      "        ],\n",
      "        \"numFound\": 431,\n",
      "        \"numFoundExact\": true,\n",
      "        \"start\": 0\n",
      "    }\n",
      "}\n"
     ]
    }
   ],
   "source": [
    "response = requests.get(\"https://api.vagalume.com.br/search.art?q=Chico Cesar&limit=5&apikey={704be0c163c4a9bd25ee481ceeceb42b}\")\n",
    "print(response.status_code)\n",
    "jprint(response.json())"
   ]
  },
  {
   "cell_type": "markdown",
   "id": "82c7a1b0-87a3-4e5f-a6d4-514659ee06f4",
   "metadata": {},
   "source": [
    "## Busca resultados para 'Chico César' incluindo dados de álbum, se possível"
   ]
  },
  {
   "cell_type": "code",
   "execution_count": 6,
   "id": "bac6010c-7f3c-4373-a813-65876a8f87aa",
   "metadata": {},
   "outputs": [],
   "source": [
    "parameters = {\n",
    "    \"q\": \"Chico Cesar\",\n",
    "    \"limit\": 5,\n",
    "    \"apikey\": \"{704be0c163c4a9bd25ee481ceeceb42b}\",\n",
    "    \"extra\":\"alb\"\n",
    "}"
   ]
  },
  {
   "cell_type": "code",
   "execution_count": 7,
   "id": "536bb902-304c-49dd-9eb6-81f9016f5d6e",
   "metadata": {},
   "outputs": [
    {
     "name": "stdout",
     "output_type": "stream",
     "text": [
      "200\n",
      "{\n",
      "    \"highlighting\": {\n",
      "        \"b3ade68b4g66c6eda3\": {},\n",
      "        \"b3ade68b5g8fd7eda3\": {},\n",
      "        \"b3ade68b7gbcfc2ea3\": {},\n",
      "        \"b3ade68b7gc26e3ea3\": {},\n",
      "        \"b3ade68b7gc7303ea3\": {}\n",
      "    },\n",
      "    \"response\": {\n",
      "        \"docs\": [\n",
      "            {\n",
      "                \"band\": \"Chico Cesar\",\n",
      "                \"fmRadios\": [\n",
      "                    \"147015501223418|forro\"\n",
      "                ],\n",
      "                \"id\": \"b3ade68b5g8fd7eda3\",\n",
      "                \"url\": \"/chico-cesar/\"\n",
      "            },\n",
      "            {\n",
      "                \"band\": \"Chico Buarque\",\n",
      "                \"fmRadios\": [\n",
      "                    \"1470154964926375|bossa-nova\",\n",
      "                    \"1470154983100588|mpb\"\n",
      "                ],\n",
      "                \"id\": \"b3ade68b4g66c6eda3\",\n",
      "                \"url\": \"/chico-buarque/\"\n",
      "            },\n",
      "            {\n",
      "                \"band\": \"Chico Chico\",\n",
      "                \"id\": \"b3ade68b7gbcfc2ea3\",\n",
      "                \"url\": \"/chico-chico/\"\n",
      "            },\n",
      "            {\n",
      "                \"band\": \"Fran e Chico Chico\",\n",
      "                \"id\": \"b3ade68b7gc26e3ea3\",\n",
      "                \"url\": \"/fran-e-chico-chico/\"\n",
      "            },\n",
      "            {\n",
      "                \"band\": \"C\\u00e9sar & C\\u00e9sar\",\n",
      "                \"id\": \"b3ade68b7gc7303ea3\",\n",
      "                \"url\": \"/cesar-cesar-11/\"\n",
      "            }\n",
      "        ],\n",
      "        \"numFound\": 431,\n",
      "        \"numFoundExact\": true,\n",
      "        \"start\": 0\n",
      "    }\n",
      "}\n"
     ]
    }
   ],
   "source": [
    "response = requests.get(\"https://api.vagalume.com.br/search.art?\", params=parameters)\n",
    "print(response.status_code)\n",
    "jprint(response.json())"
   ]
  },
  {
   "cell_type": "markdown",
   "id": "8b83812e-5b57-43e7-86f4-aad05fbd081d",
   "metadata": {},
   "source": [
    "## Busca resultados para o trecho 'vamos fugir'"
   ]
  },
  {
   "cell_type": "code",
   "execution_count": 8,
   "id": "ff9cbd83-6bcc-4665-9aac-388e5c0e43b6",
   "metadata": {},
   "outputs": [
    {
     "name": "stdout",
     "output_type": "stream",
     "text": [
      "200\n",
      "{\n",
      "    \"highlighting\": {\n",
      "        \"l3ade68b6g3e9aeda3\": {},\n",
      "        \"l3ade68b6g59b6fda3\": {},\n",
      "        \"l3ade68b7g3be34ea3\": {},\n",
      "        \"l3ade68b8g696e70b3\": {},\n",
      "        \"l3ade68b8gb0bac0b3\": {}\n",
      "    },\n",
      "    \"response\": {\n",
      "        \"docs\": [\n",
      "            {\n",
      "                \"band\": \"Skank\",\n",
      "                \"fmRadios\": [\n",
      "                    \"1534352328636564|skank\"\n",
      "                ],\n",
      "                \"id\": \"l3ade68b7g3be34ea3\",\n",
      "                \"langID\": 1,\n",
      "                \"title\": \"Vamos Fugir\",\n",
      "                \"url\": \"/skank/vamos-fugir.html\"\n",
      "            },\n",
      "            {\n",
      "                \"band\": \"Gilberto Gil\",\n",
      "                \"fmRadios\": [\n",
      "                    \"151742478997108|flashback-brasil\"\n",
      "                ],\n",
      "                \"id\": \"l3ade68b6g3e9aeda3\",\n",
      "                \"langID\": 1,\n",
      "                \"title\": \"Vamos Fugir\",\n",
      "                \"url\": \"/gilberto-gil/vamos-fugir.html\"\n",
      "            },\n",
      "            {\n",
      "                \"band\": \"Victor e Leo\",\n",
      "                \"id\": \"l3ade68b8g696e70b3\",\n",
      "                \"langID\": 1,\n",
      "                \"title\": \"Vamos Fugir\",\n",
      "                \"url\": \"/victor-leo/vamos-fugir.html\"\n",
      "            },\n",
      "            {\n",
      "                \"band\": \"MC Cabelinho\",\n",
      "                \"id\": \"l3ade68b8gb0bac0b3\",\n",
      "                \"langID\": 1,\n",
      "                \"title\": \"Vamos Fugir\",\n",
      "                \"url\": \"/mc-cabelinho/vamos-fugir.html\"\n",
      "            },\n",
      "            {\n",
      "                \"band\": \"Planta & Raiz\",\n",
      "                \"id\": \"l3ade68b6g59b6fda3\",\n",
      "                \"langID\": 1,\n",
      "                \"title\": \"Vamos Fugir\",\n",
      "                \"url\": \"/planta-raiz/vamos-fugir.html\"\n",
      "            }\n",
      "        ],\n",
      "        \"numFound\": 1604,\n",
      "        \"numFoundExact\": true,\n",
      "        \"start\": 0\n",
      "    }\n",
      "}\n"
     ]
    }
   ],
   "source": [
    "response = requests.get(\"https://api.vagalume.com.br/search.excerpt?q=vamos%20fugir&limit=5\")\n",
    "print(response.status_code)\n",
    "jprint(response.json())"
   ]
  },
  {
   "cell_type": "markdown",
   "id": "2ea75d52-31b3-477c-9c60-6ceac209a792",
   "metadata": {},
   "source": [
    "## Busca hotspots da Vagalume"
   ]
  },
  {
   "cell_type": "code",
   "execution_count": 9,
   "id": "34479c09-177c-4b7c-b2a8-a117a702eb77",
   "metadata": {},
   "outputs": [
    {
     "name": "stdout",
     "output_type": "stream",
     "text": [
      "200\n",
      "{\n",
      "    \"hotspots\": [\n",
      "        {\n",
      "            \"artUrl\": \"vance-joy\",\n",
      "            \"art_pic_src\": \"https://s2.vagalume.com/vance-joy/images/vance-joy.jpg\",\n",
      "            \"colors\": \"#000000!#253532!#102D35\",\n",
      "            \"date\": \"14-06-2022 15:00:00\",\n",
      "            \"date_fmt\": \"14/Jun/2022\",\n",
      "            \"descr\": \"Escute a nova m\\u00fasica,\\\" Catalonia\\\", com a letra e a tradu\\u00e7\\u00e3o!\",\n",
      "            \"id\": \"3ade68b6gb699eda3\",\n",
      "            \"link\": \"https://www.vagalume.com.br/vance-joy/catalonia.html?hotspot=1#play:fhtzBjwfak0\",\n",
      "            \"musTitle\": \"Catalonia\",\n",
      "            \"musUrl\": \"catalonia\",\n",
      "            \"musicID\": \"3ade68b8gf2f311b3\",\n",
      "            \"pic_height\": \"315\",\n",
      "            \"pic_src\": \"https://s2.vagalume.com/vance-joy/images/145099.jpg\",\n",
      "            \"pic_width\": \"570\",\n",
      "            \"title\": \"Vance Joy\",\n",
      "            \"type\": \"music\"\n",
      "        },\n",
      "        {\n",
      "            \"artUrl\": \"of-monsters-and-men\",\n",
      "            \"art_pic_src\": \"https://s2.vagalume.com/of-monsters-and-men/images/of-monsters-and-men.jpg\",\n",
      "            \"colors\": \"#000000!#0E5281!#BBCACF\",\n",
      "            \"date\": \"14-06-2022 11:00:00\",\n",
      "            \"date_fmt\": \"14/Jun/2022\",\n",
      "            \"descr\": \"Ou\\u00e7a a nova m\\u00fasica da banda, \\\"Lonely Weather\\\", com letra e tradu\\u00e7\\u00e3o!\",\n",
      "            \"id\": \"3ade68b6gc699eda3\",\n",
      "            \"link\": \"https://www.vagalume.com.br/of-monsters-and-men/lonely-weather.html?hotspot=1#play:IHxRqJ-9D4M\",\n",
      "            \"musTitle\": \"Lonely Weather\",\n",
      "            \"musUrl\": \"lonely-weather\",\n",
      "            \"musicID\": \"3ade68b8g13f311b3\",\n",
      "            \"pic_height\": \"315\",\n",
      "            \"pic_src\": \"https://s2.vagalume.com/of-monsters-and-men/images/145100.jpg\",\n",
      "            \"pic_width\": \"570\",\n",
      "            \"title\": \"Of Monsters and Men\",\n",
      "            \"type\": \"music\"\n",
      "        },\n",
      "        {\n",
      "            \"artUrl\": \"surfaces\",\n",
      "            \"art_pic_src\": \"https://s2.vagalume.com/surfaces/images/surfaces.jpg\",\n",
      "            \"colors\": \"#000000!#121E38!#D9D2A6\",\n",
      "            \"date\": \"13-06-2022 15:00:00\",\n",
      "            \"date_fmt\": \"13/Jun/2022\",\n",
      "            \"descr\": \"Escute a nova m\\u00fasica, \\\"What's Been On Your Mind?\\\", com letra e tradu\\u00e7\\u00e3o!\",\n",
      "            \"id\": \"3ade68b6ga699eda3\",\n",
      "            \"link\": \"https://www.vagalume.com.br/surfaces/whats-been-on-your-mind.html?hotspot=1#play:9Lvd0-EgjEk\",\n",
      "            \"musTitle\": \"What's Been On Your Mind?\",\n",
      "            \"musUrl\": \"whats-been-on-your-mind\",\n",
      "            \"musicID\": \"3ade68b8gddd311b3\",\n",
      "            \"pic_height\": \"315\",\n",
      "            \"pic_src\": \"https://s2.vagalume.com/surfaces/images/145089.jpg\",\n",
      "            \"pic_width\": \"570\",\n",
      "            \"title\": \"Surfaces\",\n",
      "            \"type\": \"music\"\n",
      "        },\n",
      "        {\n",
      "            \"artUrl\": \"eddie-benjamin\",\n",
      "            \"art_pic_src\": \"https://s2.vagalume.com/eddie-benjamin/images/eddie-benjamin.jpg\",\n",
      "            \"colors\": \"#000000!#636782!#535561\",\n",
      "            \"date\": \"13-06-2022 11:00:00\",\n",
      "            \"date_fmt\": \"13/Jun/2022\",\n",
      "            \"descr\": \"Assista ao clipe da nova m\\u00fasica, \\\"Only You\\\", com letra e tradu\\u00e7\\u00e3o!\",\n",
      "            \"id\": \"3ade68b6g9699eda3\",\n",
      "            \"link\": \"https://www.vagalume.com.br/eddie-benjamin/only-you-with-alessia-cara.html?hotspot=1#play:KFSEqyWFLqc\",\n",
      "            \"musTitle\": \"Only You (With Alessia Cara)\",\n",
      "            \"musUrl\": \"only-you-with-alessia-cara\",\n",
      "            \"musicID\": \"3ade68b8gadd311b3\",\n",
      "            \"pic_height\": \"315\",\n",
      "            \"pic_src\": \"https://s2.vagalume.com/eddie-benjamin/images/145088.jpg\",\n",
      "            \"pic_width\": \"570\",\n",
      "            \"title\": \"Eddie Benjamin & Alessia Cara\",\n",
      "            \"type\": \"music\"\n",
      "        },\n",
      "        {\n",
      "            \"artUrl\": \"vaga-lume\",\n",
      "            \"art_pic_src\": \"https://s2.vagalume.com/vaga-lume/images/vaga-lume.jpg\",\n",
      "            \"colors\": \"#2D2D2D!#FFB1B1!#D93534\",\n",
      "            \"date\": \"12-06-2022 15:00:00\",\n",
      "            \"date_fmt\": \"12/Jun/2022\",\n",
      "            \"descr\": \"Escute uma sele\\u00e7\\u00e3o de m\\u00fasicas rom\\u00e2nticas de artistas como Adele, Ed Sheeran, Nando Reis e muito mais!\",\n",
      "            \"id\": \"3ade68b6gaff8eda3\",\n",
      "            \"link\": \"https://vagalume.fm/dia-dos-namorados/?hotspot=1\",\n",
      "            \"pic_height\": \"315\",\n",
      "            \"pic_src\": \"https://s2.vagalume.com/vaga-lume/images/145068.jpg\",\n",
      "            \"pic_width\": \"570\",\n",
      "            \"title\": \"Playlist: Dia dos Namorados\",\n",
      "            \"type\": \"other\"\n",
      "        },\n",
      "        {\n",
      "            \"artUrl\": \"bastille\",\n",
      "            \"art_pic_src\": \"https://s2.vagalume.com/bastille/images/bastille.jpg\",\n",
      "            \"colors\": \"#000000!#697470!#0A4553\",\n",
      "            \"date\": \"12-06-2022 11:00:00\",\n",
      "            \"date_fmt\": \"12/Jun/2022\",\n",
      "            \"descr\": \"Assista ao clipe da nova m\\u00fasica, \\\"Remind Me\\\", com a letra e a tradu\\u00e7\\u00e3o!\",\n",
      "            \"id\": \"3ade68b6g8699eda3\",\n",
      "            \"link\": \"https://www.vagalume.com.br/bastille/remind-me.html?hotspot=1#play:dPCHSexdbVo\",\n",
      "            \"musTitle\": \"Remind Me\",\n",
      "            \"musUrl\": \"remind-me\",\n",
      "            \"musicID\": \"3ade68b8g24b311b3\",\n",
      "            \"pic_height\": \"315\",\n",
      "            \"pic_src\": \"https://s2.vagalume.com/bastille/images/145087.jpg\",\n",
      "            \"pic_width\": \"570\",\n",
      "            \"title\": \"Bastille\",\n",
      "            \"type\": \"music\"\n",
      "        },\n",
      "        {\n",
      "            \"artUrl\": \"the-chainsmokers\",\n",
      "            \"art_pic_src\": \"https://s2.vagalume.com/the-chainsmokers/images/the-chainsmokers.jpg\",\n",
      "            \"colors\": \"#000000!#013692!#000815\",\n",
      "            \"date\": \"11-06-2022 15:00:00\",\n",
      "            \"date_fmt\": \"11/Jun/2022\",\n",
      "            \"descr\": \"Escute a nova m\\u00fasica, \\\"The Fall (with Ship Wrek)\\\", com letra e tradu\\u00e7\\u00e3o!\",\n",
      "            \"id\": \"3ade68b6g7699eda3\",\n",
      "            \"link\": \"https://www.vagalume.com.br/the-chainsmokers/the-fall-with-ship-wrek.html?hotspot=1#play:nsIPwvZGG84\",\n",
      "            \"musTitle\": \"The Fall (with Ship Wrek)\",\n",
      "            \"musUrl\": \"the-fall-with-ship-wrek\",\n",
      "            \"musicID\": \"3ade68b8ge3b311b3\",\n",
      "            \"pic_height\": \"315\",\n",
      "            \"pic_src\": \"https://s2.vagalume.com/the-chainsmokers/images/145086.jpg\",\n",
      "            \"pic_width\": \"570\",\n",
      "            \"title\": \"The Chainsmokers\",\n",
      "            \"type\": \"music\"\n",
      "        },\n",
      "        {\n",
      "            \"artUrl\": \"r3hab\",\n",
      "            \"art_pic_src\": \"https://s2.vagalume.com/r3hab/images/r3hab.jpg\",\n",
      "            \"colors\": \"#000000!#184155!#212830\",\n",
      "            \"date\": \"11-06-2022 11:00:00\",\n",
      "            \"date_fmt\": \"11/Jun/2022\",\n",
      "            \"descr\": \"Ou\\u00e7a a nova m\\u00fasica, \\\"Sway My Way\\\", com letra e tradu\\u00e7\\u00e3o!\",\n",
      "            \"id\": \"3ade68b6g6699eda3\",\n",
      "            \"link\": \"https://www.vagalume.com.br/r3hab/sway-my-way-with-amy-shark.html?hotspot=1#play:CAgGUYlNdh4\",\n",
      "            \"musTitle\": \"Sway My Way (With Amy Shark)\",\n",
      "            \"musUrl\": \"sway-my-way-with-amy-shark\",\n",
      "            \"musicID\": \"3ade68b8g7dd311b3\",\n",
      "            \"pic_height\": \"315\",\n",
      "            \"pic_src\": \"https://s2.vagalume.com/r3hab/images/145085.jpg\",\n",
      "            \"pic_width\": \"570\",\n",
      "            \"title\": \"R3hab & Amy Shark\",\n",
      "            \"type\": \"music\"\n",
      "        },\n",
      "        {\n",
      "            \"artUrl\": \"demi-lovato\",\n",
      "            \"art_pic_src\": \"https://s2.vagalume.com/demi-lovato/images/demi-lovato.jpg\",\n",
      "            \"colors\": \"#000000!#0C232B!#005267\",\n",
      "            \"date\": \"10-06-2022 15:00:00\",\n",
      "            \"date_fmt\": \"10/Jun/2022\",\n",
      "            \"descr\": \"Veja o clipe da nova m\\u00fasica, \\\"Skin Of My Teeth\\\", com a letra e a tradu\\u00e7\\u00e3o!\",\n",
      "            \"id\": \"3ade68b6g3699eda3\",\n",
      "            \"link\": \"https://www.vagalume.com.br/demi-lovato/skin-of-my-teeth.html?hotspot=1#play:HgrC_h8-2FM:3ade68b7gc8103ea3\",\n",
      "            \"musTitle\": \"SKIN OF MY TEETH\",\n",
      "            \"musUrl\": \"skin-of-my-teeth\",\n",
      "            \"musicID\": \"3ade68b8g93b311b3\",\n",
      "            \"pic_height\": \"315\",\n",
      "            \"pic_src\": \"https://s2.vagalume.com/demi-lovato/images/145062.jpg\",\n",
      "            \"pic_width\": \"570\",\n",
      "            \"title\": \"Demi Lovato\",\n",
      "            \"type\": \"music\"\n",
      "        },\n",
      "        {\n",
      "            \"artUrl\": \"marshmello\",\n",
      "            \"art_pic_src\": \"https://s2.vagalume.com/marshmello/images/marshmello.jpg\",\n",
      "            \"colors\": \"#000000!#B0713B!#8AB8AD\",\n",
      "            \"date\": \"10-06-2022 11:00:00\",\n",
      "            \"date_fmt\": \"10/Jun/2022\",\n",
      "            \"descr\": \"Assista ao clipe da nova m\\u00fasica, \\\"Numb\\\", com a letra e a tradu\\u00e7\\u00e3o!\",\n",
      "            \"id\": \"3ade68b6g4699eda3\",\n",
      "            \"link\": \"https://www.vagalume.com.br/marshmello/numb-with-khalid.html?hotspot=1#play:mRXKnG2eugU:3ade68b7ge8103ea3\",\n",
      "            \"musTitle\": \"Numb (with Khalid)\",\n",
      "            \"musUrl\": \"numb-with-khalid\",\n",
      "            \"musicID\": \"3ade68b8gf3b311b3\",\n",
      "            \"pic_height\": \"315\",\n",
      "            \"pic_src\": \"https://s2.vagalume.com/marshmello/images/145063.jpg\",\n",
      "            \"pic_width\": \"570\",\n",
      "            \"title\": \"Marshmello & Khalid\",\n",
      "            \"type\": \"music\"\n",
      "        }\n",
      "    ]\n",
      "}\n"
     ]
    }
   ],
   "source": [
    "response = requests.get(\"https://api.vagalume.com.br/hotspots.php?apikey={704be0c163c4a9bd25ee481ceeceb42b}\")\n",
    "print(response.status_code)\n",
    "jprint(response.json())"
   ]
  },
  {
   "cell_type": "markdown",
   "id": "60d729bd-440c-4965-9242-ba0f37d4f760",
   "metadata": {},
   "source": [
    "## Busca discografias conforme exemplo"
   ]
  },
  {
   "cell_type": "code",
   "execution_count": 10,
   "id": "76a3d3b9-88cf-45da-bf35-22be98ed86f6",
   "metadata": {},
   "outputs": [
    {
     "name": "stdout",
     "output_type": "stream",
     "text": [
      "404\n"
     ]
    },
    {
     "ename": "JSONDecodeError",
     "evalue": "Expecting value: line 1 column 1 (char 0)",
     "output_type": "error",
     "traceback": [
      "\u001b[0;31m---------------------------------------------------------------------------\u001b[0m",
      "\u001b[0;31mJSONDecodeError\u001b[0m                           Traceback (most recent call last)",
      "File \u001b[0;32m~/.cache/pypoetry/virtualenvs/analise-letras-br-tdVP5ly4-py3.8/lib/python3.8/site-packages/requests/models.py:972\u001b[0m, in \u001b[0;36mResponse.json\u001b[0;34m(self, **kwargs)\u001b[0m\n\u001b[1;32m    971\u001b[0m \u001b[38;5;28;01mtry\u001b[39;00m:\n\u001b[0;32m--> 972\u001b[0m     \u001b[38;5;28;01mreturn\u001b[39;00m \u001b[43mcomplexjson\u001b[49m\u001b[38;5;241;43m.\u001b[39;49m\u001b[43mloads\u001b[49m\u001b[43m(\u001b[49m\u001b[38;5;28;43mself\u001b[39;49m\u001b[38;5;241;43m.\u001b[39;49m\u001b[43mtext\u001b[49m\u001b[43m,\u001b[49m\u001b[43m \u001b[49m\u001b[38;5;241;43m*\u001b[39;49m\u001b[38;5;241;43m*\u001b[39;49m\u001b[43mkwargs\u001b[49m\u001b[43m)\u001b[49m\n\u001b[1;32m    973\u001b[0m \u001b[38;5;28;01mexcept\u001b[39;00m JSONDecodeError \u001b[38;5;28;01mas\u001b[39;00m e:\n\u001b[1;32m    974\u001b[0m     \u001b[38;5;66;03m# Catch JSON-related errors and raise as requests.JSONDecodeError\u001b[39;00m\n\u001b[1;32m    975\u001b[0m     \u001b[38;5;66;03m# This aliases json.JSONDecodeError and simplejson.JSONDecodeError\u001b[39;00m\n",
      "File \u001b[0;32m~/.pyenv/versions/3.8.10/lib/python3.8/json/__init__.py:357\u001b[0m, in \u001b[0;36mloads\u001b[0;34m(s, cls, object_hook, parse_float, parse_int, parse_constant, object_pairs_hook, **kw)\u001b[0m\n\u001b[1;32m    354\u001b[0m \u001b[38;5;28;01mif\u001b[39;00m (\u001b[38;5;28mcls\u001b[39m \u001b[38;5;129;01mis\u001b[39;00m \u001b[38;5;28;01mNone\u001b[39;00m \u001b[38;5;129;01mand\u001b[39;00m object_hook \u001b[38;5;129;01mis\u001b[39;00m \u001b[38;5;28;01mNone\u001b[39;00m \u001b[38;5;129;01mand\u001b[39;00m\n\u001b[1;32m    355\u001b[0m         parse_int \u001b[38;5;129;01mis\u001b[39;00m \u001b[38;5;28;01mNone\u001b[39;00m \u001b[38;5;129;01mand\u001b[39;00m parse_float \u001b[38;5;129;01mis\u001b[39;00m \u001b[38;5;28;01mNone\u001b[39;00m \u001b[38;5;129;01mand\u001b[39;00m\n\u001b[1;32m    356\u001b[0m         parse_constant \u001b[38;5;129;01mis\u001b[39;00m \u001b[38;5;28;01mNone\u001b[39;00m \u001b[38;5;129;01mand\u001b[39;00m object_pairs_hook \u001b[38;5;129;01mis\u001b[39;00m \u001b[38;5;28;01mNone\u001b[39;00m \u001b[38;5;129;01mand\u001b[39;00m \u001b[38;5;129;01mnot\u001b[39;00m kw):\n\u001b[0;32m--> 357\u001b[0m     \u001b[38;5;28;01mreturn\u001b[39;00m \u001b[43m_default_decoder\u001b[49m\u001b[38;5;241;43m.\u001b[39;49m\u001b[43mdecode\u001b[49m\u001b[43m(\u001b[49m\u001b[43ms\u001b[49m\u001b[43m)\u001b[49m\n\u001b[1;32m    358\u001b[0m \u001b[38;5;28;01mif\u001b[39;00m \u001b[38;5;28mcls\u001b[39m \u001b[38;5;129;01mis\u001b[39;00m \u001b[38;5;28;01mNone\u001b[39;00m:\n",
      "File \u001b[0;32m~/.pyenv/versions/3.8.10/lib/python3.8/json/decoder.py:337\u001b[0m, in \u001b[0;36mJSONDecoder.decode\u001b[0;34m(self, s, _w)\u001b[0m\n\u001b[1;32m    333\u001b[0m \u001b[38;5;124;03m\"\"\"Return the Python representation of ``s`` (a ``str`` instance\u001b[39;00m\n\u001b[1;32m    334\u001b[0m \u001b[38;5;124;03mcontaining a JSON document).\u001b[39;00m\n\u001b[1;32m    335\u001b[0m \n\u001b[1;32m    336\u001b[0m \u001b[38;5;124;03m\"\"\"\u001b[39;00m\n\u001b[0;32m--> 337\u001b[0m obj, end \u001b[38;5;241m=\u001b[39m \u001b[38;5;28;43mself\u001b[39;49m\u001b[38;5;241;43m.\u001b[39;49m\u001b[43mraw_decode\u001b[49m\u001b[43m(\u001b[49m\u001b[43ms\u001b[49m\u001b[43m,\u001b[49m\u001b[43m \u001b[49m\u001b[43midx\u001b[49m\u001b[38;5;241;43m=\u001b[39;49m\u001b[43m_w\u001b[49m\u001b[43m(\u001b[49m\u001b[43ms\u001b[49m\u001b[43m,\u001b[49m\u001b[43m \u001b[49m\u001b[38;5;241;43m0\u001b[39;49m\u001b[43m)\u001b[49m\u001b[38;5;241;43m.\u001b[39;49m\u001b[43mend\u001b[49m\u001b[43m(\u001b[49m\u001b[43m)\u001b[49m\u001b[43m)\u001b[49m\n\u001b[1;32m    338\u001b[0m end \u001b[38;5;241m=\u001b[39m _w(s, end)\u001b[38;5;241m.\u001b[39mend()\n",
      "File \u001b[0;32m~/.pyenv/versions/3.8.10/lib/python3.8/json/decoder.py:355\u001b[0m, in \u001b[0;36mJSONDecoder.raw_decode\u001b[0;34m(self, s, idx)\u001b[0m\n\u001b[1;32m    354\u001b[0m \u001b[38;5;28;01mexcept\u001b[39;00m \u001b[38;5;167;01mStopIteration\u001b[39;00m \u001b[38;5;28;01mas\u001b[39;00m err:\n\u001b[0;32m--> 355\u001b[0m     \u001b[38;5;28;01mraise\u001b[39;00m JSONDecodeError(\u001b[38;5;124m\"\u001b[39m\u001b[38;5;124mExpecting value\u001b[39m\u001b[38;5;124m\"\u001b[39m, s, err\u001b[38;5;241m.\u001b[39mvalue) \u001b[38;5;28;01mfrom\u001b[39;00m \u001b[38;5;28mNone\u001b[39m\n\u001b[1;32m    356\u001b[0m \u001b[38;5;28;01mreturn\u001b[39;00m obj, end\n",
      "\u001b[0;31mJSONDecodeError\u001b[0m: Expecting value: line 1 column 1 (char 0)",
      "\nDuring handling of the above exception, another exception occurred:\n",
      "\u001b[0;31mJSONDecodeError\u001b[0m                           Traceback (most recent call last)",
      "Input \u001b[0;32mIn [10]\u001b[0m, in \u001b[0;36m<cell line: 4>\u001b[0;34m()\u001b[0m\n\u001b[1;32m      2\u001b[0m response \u001b[38;5;241m=\u001b[39m requests\u001b[38;5;241m.\u001b[39mget(\u001b[38;5;124m\"\u001b[39m\u001b[38;5;124mhttps://www.vagalume.com.br/u2/discografia/index.js\u001b[39m\u001b[38;5;124m\"\u001b[39m)\n\u001b[1;32m      3\u001b[0m \u001b[38;5;28mprint\u001b[39m(response\u001b[38;5;241m.\u001b[39mstatus_code)\n\u001b[0;32m----> 4\u001b[0m jprint(\u001b[43mresponse\u001b[49m\u001b[38;5;241;43m.\u001b[39;49m\u001b[43mjson\u001b[49m\u001b[43m(\u001b[49m\u001b[43m)\u001b[49m)\n",
      "File \u001b[0;32m~/.cache/pypoetry/virtualenvs/analise-letras-br-tdVP5ly4-py3.8/lib/python3.8/site-packages/requests/models.py:976\u001b[0m, in \u001b[0;36mResponse.json\u001b[0;34m(self, **kwargs)\u001b[0m\n\u001b[1;32m    972\u001b[0m     \u001b[38;5;28;01mreturn\u001b[39;00m complexjson\u001b[38;5;241m.\u001b[39mloads(\u001b[38;5;28mself\u001b[39m\u001b[38;5;241m.\u001b[39mtext, \u001b[38;5;241m*\u001b[39m\u001b[38;5;241m*\u001b[39mkwargs)\n\u001b[1;32m    973\u001b[0m \u001b[38;5;28;01mexcept\u001b[39;00m JSONDecodeError \u001b[38;5;28;01mas\u001b[39;00m e:\n\u001b[1;32m    974\u001b[0m     \u001b[38;5;66;03m# Catch JSON-related errors and raise as requests.JSONDecodeError\u001b[39;00m\n\u001b[1;32m    975\u001b[0m     \u001b[38;5;66;03m# This aliases json.JSONDecodeError and simplejson.JSONDecodeError\u001b[39;00m\n\u001b[0;32m--> 976\u001b[0m     \u001b[38;5;28;01mraise\u001b[39;00m RequestsJSONDecodeError(e\u001b[38;5;241m.\u001b[39mmsg, e\u001b[38;5;241m.\u001b[39mdoc, e\u001b[38;5;241m.\u001b[39mpos)\n",
      "\u001b[0;31mJSONDecodeError\u001b[0m: Expecting value: line 1 column 1 (char 0)"
     ]
    }
   ],
   "source": [
    "# exemplo tirado de https://api.vagalume.com.br/docs/discografia/\n",
    "response = requests.get(\"https://www.vagalume.com.br/u2/discografia/index.js\")\n",
    "print(response.status_code)\n",
    "jprint(response.json())"
   ]
  },
  {
   "cell_type": "code",
   "execution_count": 11,
   "id": "a148a21e-dc15-425d-a1e7-7308722964d3",
   "metadata": {},
   "outputs": [
    {
     "name": "stdout",
     "output_type": "stream",
     "text": [
      "503\n"
     ]
    },
    {
     "ename": "JSONDecodeError",
     "evalue": "Expecting value: line 1 column 1 (char 0)",
     "output_type": "error",
     "traceback": [
      "\u001b[0;31m---------------------------------------------------------------------------\u001b[0m",
      "\u001b[0;31mJSONDecodeError\u001b[0m                           Traceback (most recent call last)",
      "File \u001b[0;32m~/.cache/pypoetry/virtualenvs/analise-letras-br-tdVP5ly4-py3.8/lib/python3.8/site-packages/requests/models.py:972\u001b[0m, in \u001b[0;36mResponse.json\u001b[0;34m(self, **kwargs)\u001b[0m\n\u001b[1;32m    971\u001b[0m \u001b[38;5;28;01mtry\u001b[39;00m:\n\u001b[0;32m--> 972\u001b[0m     \u001b[38;5;28;01mreturn\u001b[39;00m \u001b[43mcomplexjson\u001b[49m\u001b[38;5;241;43m.\u001b[39;49m\u001b[43mloads\u001b[49m\u001b[43m(\u001b[49m\u001b[38;5;28;43mself\u001b[39;49m\u001b[38;5;241;43m.\u001b[39;49m\u001b[43mtext\u001b[49m\u001b[43m,\u001b[49m\u001b[43m \u001b[49m\u001b[38;5;241;43m*\u001b[39;49m\u001b[38;5;241;43m*\u001b[39;49m\u001b[43mkwargs\u001b[49m\u001b[43m)\u001b[49m\n\u001b[1;32m    973\u001b[0m \u001b[38;5;28;01mexcept\u001b[39;00m JSONDecodeError \u001b[38;5;28;01mas\u001b[39;00m e:\n\u001b[1;32m    974\u001b[0m     \u001b[38;5;66;03m# Catch JSON-related errors and raise as requests.JSONDecodeError\u001b[39;00m\n\u001b[1;32m    975\u001b[0m     \u001b[38;5;66;03m# This aliases json.JSONDecodeError and simplejson.JSONDecodeError\u001b[39;00m\n",
      "File \u001b[0;32m~/.pyenv/versions/3.8.10/lib/python3.8/json/__init__.py:357\u001b[0m, in \u001b[0;36mloads\u001b[0;34m(s, cls, object_hook, parse_float, parse_int, parse_constant, object_pairs_hook, **kw)\u001b[0m\n\u001b[1;32m    354\u001b[0m \u001b[38;5;28;01mif\u001b[39;00m (\u001b[38;5;28mcls\u001b[39m \u001b[38;5;129;01mis\u001b[39;00m \u001b[38;5;28;01mNone\u001b[39;00m \u001b[38;5;129;01mand\u001b[39;00m object_hook \u001b[38;5;129;01mis\u001b[39;00m \u001b[38;5;28;01mNone\u001b[39;00m \u001b[38;5;129;01mand\u001b[39;00m\n\u001b[1;32m    355\u001b[0m         parse_int \u001b[38;5;129;01mis\u001b[39;00m \u001b[38;5;28;01mNone\u001b[39;00m \u001b[38;5;129;01mand\u001b[39;00m parse_float \u001b[38;5;129;01mis\u001b[39;00m \u001b[38;5;28;01mNone\u001b[39;00m \u001b[38;5;129;01mand\u001b[39;00m\n\u001b[1;32m    356\u001b[0m         parse_constant \u001b[38;5;129;01mis\u001b[39;00m \u001b[38;5;28;01mNone\u001b[39;00m \u001b[38;5;129;01mand\u001b[39;00m object_pairs_hook \u001b[38;5;129;01mis\u001b[39;00m \u001b[38;5;28;01mNone\u001b[39;00m \u001b[38;5;129;01mand\u001b[39;00m \u001b[38;5;129;01mnot\u001b[39;00m kw):\n\u001b[0;32m--> 357\u001b[0m     \u001b[38;5;28;01mreturn\u001b[39;00m \u001b[43m_default_decoder\u001b[49m\u001b[38;5;241;43m.\u001b[39;49m\u001b[43mdecode\u001b[49m\u001b[43m(\u001b[49m\u001b[43ms\u001b[49m\u001b[43m)\u001b[49m\n\u001b[1;32m    358\u001b[0m \u001b[38;5;28;01mif\u001b[39;00m \u001b[38;5;28mcls\u001b[39m \u001b[38;5;129;01mis\u001b[39;00m \u001b[38;5;28;01mNone\u001b[39;00m:\n",
      "File \u001b[0;32m~/.pyenv/versions/3.8.10/lib/python3.8/json/decoder.py:337\u001b[0m, in \u001b[0;36mJSONDecoder.decode\u001b[0;34m(self, s, _w)\u001b[0m\n\u001b[1;32m    333\u001b[0m \u001b[38;5;124;03m\"\"\"Return the Python representation of ``s`` (a ``str`` instance\u001b[39;00m\n\u001b[1;32m    334\u001b[0m \u001b[38;5;124;03mcontaining a JSON document).\u001b[39;00m\n\u001b[1;32m    335\u001b[0m \n\u001b[1;32m    336\u001b[0m \u001b[38;5;124;03m\"\"\"\u001b[39;00m\n\u001b[0;32m--> 337\u001b[0m obj, end \u001b[38;5;241m=\u001b[39m \u001b[38;5;28;43mself\u001b[39;49m\u001b[38;5;241;43m.\u001b[39;49m\u001b[43mraw_decode\u001b[49m\u001b[43m(\u001b[49m\u001b[43ms\u001b[49m\u001b[43m,\u001b[49m\u001b[43m \u001b[49m\u001b[43midx\u001b[49m\u001b[38;5;241;43m=\u001b[39;49m\u001b[43m_w\u001b[49m\u001b[43m(\u001b[49m\u001b[43ms\u001b[49m\u001b[43m,\u001b[49m\u001b[43m \u001b[49m\u001b[38;5;241;43m0\u001b[39;49m\u001b[43m)\u001b[49m\u001b[38;5;241;43m.\u001b[39;49m\u001b[43mend\u001b[49m\u001b[43m(\u001b[49m\u001b[43m)\u001b[49m\u001b[43m)\u001b[49m\n\u001b[1;32m    338\u001b[0m end \u001b[38;5;241m=\u001b[39m _w(s, end)\u001b[38;5;241m.\u001b[39mend()\n",
      "File \u001b[0;32m~/.pyenv/versions/3.8.10/lib/python3.8/json/decoder.py:355\u001b[0m, in \u001b[0;36mJSONDecoder.raw_decode\u001b[0;34m(self, s, idx)\u001b[0m\n\u001b[1;32m    354\u001b[0m \u001b[38;5;28;01mexcept\u001b[39;00m \u001b[38;5;167;01mStopIteration\u001b[39;00m \u001b[38;5;28;01mas\u001b[39;00m err:\n\u001b[0;32m--> 355\u001b[0m     \u001b[38;5;28;01mraise\u001b[39;00m JSONDecodeError(\u001b[38;5;124m\"\u001b[39m\u001b[38;5;124mExpecting value\u001b[39m\u001b[38;5;124m\"\u001b[39m, s, err\u001b[38;5;241m.\u001b[39mvalue) \u001b[38;5;28;01mfrom\u001b[39;00m \u001b[38;5;28mNone\u001b[39m\n\u001b[1;32m    356\u001b[0m \u001b[38;5;28;01mreturn\u001b[39;00m obj, end\n",
      "\u001b[0;31mJSONDecodeError\u001b[0m: Expecting value: line 1 column 1 (char 0)",
      "\nDuring handling of the above exception, another exception occurred:\n",
      "\u001b[0;31mJSONDecodeError\u001b[0m                           Traceback (most recent call last)",
      "Input \u001b[0;32mIn [11]\u001b[0m, in \u001b[0;36m<cell line: 4>\u001b[0;34m()\u001b[0m\n\u001b[1;32m      2\u001b[0m response \u001b[38;5;241m=\u001b[39m requests\u001b[38;5;241m.\u001b[39mget(\u001b[38;5;124m\"\u001b[39m\u001b[38;5;124mhttps://api.vagalume.com.br/search.alb?q=U218\u001b[39m\u001b[38;5;124m%\u001b[39m\u001b[38;5;124m20Singles&limit=5\u001b[39m\u001b[38;5;124m\"\u001b[39m)\n\u001b[1;32m      3\u001b[0m \u001b[38;5;28mprint\u001b[39m(response\u001b[38;5;241m.\u001b[39mstatus_code)\n\u001b[0;32m----> 4\u001b[0m jprint(\u001b[43mresponse\u001b[49m\u001b[38;5;241;43m.\u001b[39;49m\u001b[43mjson\u001b[49m\u001b[43m(\u001b[49m\u001b[43m)\u001b[49m)\n",
      "File \u001b[0;32m~/.cache/pypoetry/virtualenvs/analise-letras-br-tdVP5ly4-py3.8/lib/python3.8/site-packages/requests/models.py:976\u001b[0m, in \u001b[0;36mResponse.json\u001b[0;34m(self, **kwargs)\u001b[0m\n\u001b[1;32m    972\u001b[0m     \u001b[38;5;28;01mreturn\u001b[39;00m complexjson\u001b[38;5;241m.\u001b[39mloads(\u001b[38;5;28mself\u001b[39m\u001b[38;5;241m.\u001b[39mtext, \u001b[38;5;241m*\u001b[39m\u001b[38;5;241m*\u001b[39mkwargs)\n\u001b[1;32m    973\u001b[0m \u001b[38;5;28;01mexcept\u001b[39;00m JSONDecodeError \u001b[38;5;28;01mas\u001b[39;00m e:\n\u001b[1;32m    974\u001b[0m     \u001b[38;5;66;03m# Catch JSON-related errors and raise as requests.JSONDecodeError\u001b[39;00m\n\u001b[1;32m    975\u001b[0m     \u001b[38;5;66;03m# This aliases json.JSONDecodeError and simplejson.JSONDecodeError\u001b[39;00m\n\u001b[0;32m--> 976\u001b[0m     \u001b[38;5;28;01mraise\u001b[39;00m RequestsJSONDecodeError(e\u001b[38;5;241m.\u001b[39mmsg, e\u001b[38;5;241m.\u001b[39mdoc, e\u001b[38;5;241m.\u001b[39mpos)\n",
      "\u001b[0;31mJSONDecodeError\u001b[0m: Expecting value: line 1 column 1 (char 0)"
     ]
    }
   ],
   "source": [
    "# exemplo tirado de https://api.vagalume.com.br/docs/search/#artMus\n",
    "response = requests.get(\"https://api.vagalume.com.br/search.alb?q=U218%20Singles&limit=5\")\n",
    "print(response.status_code)\n",
    "jprint(response.json())"
   ]
  },
  {
   "cell_type": "code",
   "execution_count": 12,
   "id": "8ff7422d-3c7c-4ad5-9f9e-f032dcfda976",
   "metadata": {},
   "outputs": [
    {
     "name": "stdout",
     "output_type": "stream",
     "text": [
      "200\n",
      "{\n",
      "    \"art\": {\n",
      "        \"id\": \"3ade68b5g8fd7eda3\",\n",
      "        \"name\": \"Chico Cesar\",\n",
      "        \"url\": \"https://www.vagalume.com.br/chico-cesar/\"\n",
      "    },\n",
      "    \"badwords\": false,\n",
      "    \"mus\": [\n",
      "        {\n",
      "            \"alb\": {\n",
      "                \"id\": \"3ade68b6g7a1bfda3\",\n",
      "                \"img\": \"https://www.vagalume.com.br/chico-cesar/discografia/cuscuz-cla-W125.jpg\",\n",
      "                \"name\": \"Cuscuz Cl\\u00e3\",\n",
      "                \"url\": \"https://www.vagalume.com.br/chico-cesar/discografia/cuscuz-cla.html\",\n",
      "                \"year\": \"1996\"\n",
      "            },\n",
      "            \"id\": \"3ade68b6g8dc1fda3\",\n",
      "            \"lang\": 1,\n",
      "            \"name\": \"Mama \\u00c1frica\",\n",
      "            \"text\": \"Mama \\u00c1frica, \\na minha m\\u00e3e \\u00e9 m\\u00e3e solteira\\ne tem que fazer\\nmamadeira todo dia\\nal\\u00e9m de trabalhar\\ncomo empacotadeira\\nnas casas Bahia\\n\\nMama \\u00c1frica \\na minha m\\u00e3e \\u00e9 m\\u00e3e solteira\\ne tem que fazer\\nmamadeira todo dia\\nal\\u00e9m de trabalhar\\ncomo empacotadeira\\nnas casas Bahia\\n\\nMama \\u00c1frica tem tanto o que fazer\\nal\\u00e9m de cuidar nen\\u00e9m\\nal\\u00e9m de fazer denguim\\nfilhinho tem que entender\\nmama \\u00c1frica vai e vem\\nmas n\\u00e3o se afasta de voc\\u00ea\\n\\nMama \\u00c1frica\\na minha m\\u00e3e \\u00e9 m\\u00e3e solteira\\ne tem que fazer\\nmamadeira todo dia\\nal\\u00e9m de trabalhar\\ncomo empacotadeira\\nnas casas Bahia\\n\\nQuando mama sai de casa\\nseus filhos se olodunzam\\nrola o maior jazz\\nmama tem calo nos p\\u00e9s\\nmama precisa de paz\\nmama n\\u00e3o quer brincar mais\\nfilhinho d\\u00e1 um tempo\\n\\u00e9 tanto contratempo\\nno ritmo de vida\\nde mama\\n\\nMama \\u00c1frica\\na minha m\\u00e3e \\u00e9 m\\u00e3e solteira\\ne tem que fazer\\nmamadeira todo dia\\nal\\u00e9m de trabalhar\\ncomo empacotadeira\\nnas casas Bahia\\n\\nMama \\u00c1frica\\na minha m\\u00e3e \\u00e9 m\\u00e3e solteira\\ne tem que fazer\\nmamadeira todo dia\\nal\\u00e9m de trabalhar\\ncomo empacotadeira\\nnas casas Bahia\\n\\nDeve ser legal\\nser neg\\u00e3o no Senegal\\ndeve ser legal\\nser neg\\u00e3o no Senegal\\ndeve ser legal\\nser neg\\u00e3o no Senegal\\ndeve ser legal\\nser neg\\u00e3o no Senegal\\n\\nMama \\u00c1frica\\na minha m\\u00e3e \\u00e9 m\\u00e3e solteira\\ne tem que fazer\\nmamadeira todo dia\\nal\\u00e9m de trabalhar\\ncomo empacotadeira\\nnas casas Bahia\\n\\nMama \\u00c1frica\\na minha m\\u00e3e \\u00e9 m\\u00e3e solteira\\ne tem que fazer\\nmamadeira todo dia\\nal\\u00e9m de trabalhar\\ncomo empacotadeira\\nnas casas Bahia\\n\\nMama \\u00c1frica\\na minha m\\u00e3e\\na minha m\\u00e3e\\na minha m\\u00e3e\",\n",
      "            \"url\": \"https://www.vagalume.com.br/chico-cesar/mama-africa.html\"\n",
      "        }\n",
      "    ],\n",
      "    \"type\": \"exact\"\n",
      "}\n"
     ]
    }
   ],
   "source": [
    "# exemplo tirado de https://api.vagalume.com.br/docs/search/#artMus\n",
    "response = requests.get(\"https://api.vagalume.com.br/search.php?art=Chico Cesar&mus=Mama Africa&extra=alb&apikey={704be0c163c4a9bd25ee481ceeceb42b}\")\n",
    "print(response.status_code)\n",
    "jprint(response.json())"
   ]
  },
  {
   "cell_type": "code",
   "execution_count": null,
   "id": "81fdcf3a-e979-48c7-a2bd-ee54105fbb59",
   "metadata": {},
   "outputs": [
    {
     "ename": "TypeError",
     "evalue": "string indices must be integers",
     "output_type": "error",
     "traceback": [
      "\u001b[0;31m---------------------------------------------------------------------------\u001b[0m",
      "\u001b[0;31mTypeError\u001b[0m                                 Traceback (most recent call last)",
      "Input \u001b[0;32mIn [13]\u001b[0m, in \u001b[0;36m<cell line: 3>\u001b[0;34m()\u001b[0m\n\u001b[1;32m      1\u001b[0m json_text \u001b[38;5;241m=\u001b[39m json\u001b[38;5;241m.\u001b[39mdumps(response\u001b[38;5;241m.\u001b[39mjson(), sort_keys\u001b[38;5;241m=\u001b[39m\u001b[38;5;28;01mTrue\u001b[39;00m, indent\u001b[38;5;241m=\u001b[39m\u001b[38;5;241m4\u001b[39m)\n\u001b[1;32m      2\u001b[0m \u001b[38;5;66;03m#print(json_text)\u001b[39;00m\n\u001b[0;32m----> 3\u001b[0m json_df \u001b[38;5;241m=\u001b[39m pd\u001b[38;5;241m.\u001b[39mread_json(\u001b[43mjson_text\u001b[49m\u001b[43m[\u001b[49m\u001b[38;5;124;43m\"\u001b[39;49m\u001b[38;5;124;43mmus\u001b[39;49m\u001b[38;5;124;43m\"\u001b[39;49m\u001b[43m]\u001b[49m)\n\u001b[1;32m      4\u001b[0m json_df\n",
      "\u001b[0;31mTypeError\u001b[0m: string indices must be integers"
     ]
    }
   ],
   "source": [
    "json_text = json.dumps(response.json(), sort_keys=True, indent=4)\n",
    "#print(json_text)\n",
    "json_df = pd.read_json(json_text[\"mus\"])\n",
    "json_df"
   ]
  }
 ],
 "metadata": {
  "kernelspec": {
   "display_name": "Python 3 (ipykernel)",
   "language": "python",
   "name": "python3"
  },
  "language_info": {
   "codemirror_mode": {
    "name": "ipython",
    "version": 3
   },
   "file_extension": ".py",
   "mimetype": "text/x-python",
   "name": "python",
   "nbconvert_exporter": "python",
   "pygments_lexer": "ipython3",
   "version": "3.8.10"
  }
 },
 "nbformat": 4,
 "nbformat_minor": 5
}
